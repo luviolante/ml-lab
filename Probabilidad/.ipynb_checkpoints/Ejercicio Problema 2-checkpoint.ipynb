{
 "cells": [
  {
   "cell_type": "markdown",
   "metadata": {},
   "source": [
    "# Problema 2\n",
    "Utilizando las siguientes funciones/paquetes resolver los siguientes problemas de clasificación en problema_2.py:\n",
    "\n",
    "genfromtxt de numpy para leer los dos datasets:\n",
    "\n",
    "./datasets/student_admission.txt\n",
    "./datasets/chip_tests.txt\n",
    "train_test_split de sklearn para dividir entre test set y train set. Recomendamos un 40% de datos para test set\n",
    "\n",
    "GaussianNB de sklearn como modelo de ML.\n",
    "\n",
    "Y la función plot_boundaries(X_train, X_test, y_train, y_test, score, predict_proba, ax=ax, h=h) incluida en problema_2.py para graficar los resultados. X_train es un np.array con los features de entrada, y_train es la etiqueta. Lo mismo con X_test e y_test, Score es el 'accuracy' del modelo, predict_proba es la función que dada una entrada de la probabilidad de clasificar correcto y h es el paso para la grafica del 'boundary'"
   ]
  },
  {
   "cell_type": "code",
   "execution_count": 4,
   "metadata": {},
   "outputs": [],
   "source": [
    "import numpy as np\n",
    "import matplotlib.pyplot as plt\n",
    "from matplotlib.colors import ListedColormap\n",
    "\n",
    "def plot_boundaries(X_train, X_test, y_train, y_test, score, probability_func, h = .02, ax = None):\n",
    "    X = np.vstack((X_test, X_train))\n",
    "    x_min, x_max = X[:, 0].min() - .5, X[:, 0].max() + .5\n",
    "    y_min, y_max = X[:, 1].min() - .5, X[:, 1].max() + .5\n",
    "    xx, yy = np.meshgrid(np.arange(x_min, x_max, h),\n",
    "                         np.arange(y_min, y_max, h))\n",
    "\n",
    "    if ax is None:\n",
    "        ax = plt.subplot(1, 1, 1)\n",
    "    \n",
    "    # Plot the decision boundary. For that, we will assign a color to each\n",
    "    # point in the mesh [x_min, x_max]x[y_min, y_max].\n",
    "    \n",
    "    Z = probability_func(np.c_[xx.ravel(), yy.ravel()])[:, 1]\n",
    "\n",
    "    # Put the result into a color plot\n",
    "    Z = Z.reshape(xx.shape)\n",
    "    \n",
    "    cm = plt.cm.RdBu\n",
    "    cm_bright = ListedColormap(['#FF0000', '#0000FF'])\n",
    "    \n",
    "    cf = ax.contourf(xx, yy, Z, 50, cmap=cm, alpha=.8)\n",
    "    plt.colorbar(cf, ax=ax)\n",
    "    #plt.colorbar(Z,ax=ax)\n",
    "\n",
    "    # Plot also the training points\n",
    "    ax.scatter(X_train[:, 0], X_train[:, 1], c=y_train, cmap=cm_bright,\n",
    "               edgecolors='k', s=100)\n",
    "    # and testing points\n",
    "    ax.scatter(X_test[:, 0], X_test[:, 1], c=y_test, cmap=cm_bright,\n",
    "               edgecolors='k', alpha=0.6, s=200)\n",
    "\n",
    "    ax.set_xlim(xx.min(), xx.max())\n",
    "    ax.set_ylim(yy.min(), yy.max())\n",
    "    ax.set_xticks(())\n",
    "    ax.set_yticks(())\n",
    "    ax.text(xx.max() - .3, yy.min() + .3, ('%.2f' % score).lstrip('0'),\n",
    "            size=40, horizontalalignment='right')\n",
    "\n",
    "    \n",
    "from sklearn.model_selection import train_test_split\n",
    "from sklearn.naive_bayes import GaussianNB\n",
    "\n",
    "def train_and_plot(X, y, h=1):\n",
    "    # TODO\n",
    "    path_dataset = \"/Documents/Lu/Intro-Probabilidad/datasets/chip_tests.txt\"\n",
    "    dictionary = np.genfromtxt(path_dataset, dtype=(float, float, bool)), delimiter=\",\")\n",
    "    print(dictionary.keys)\n",
    "    return\n",
    "    \n",
    "\n"
   ]
  },
  {
   "cell_type": "code",
   "execution_count": null,
   "metadata": {},
   "outputs": [],
   "source": []
  }
 ],
 "metadata": {
  "kernelspec": {
   "display_name": "Python 3",
   "language": "python",
   "name": "python3"
  },
  "language_info": {
   "codemirror_mode": {
    "name": "ipython",
    "version": 3
   },
   "file_extension": ".py",
   "mimetype": "text/x-python",
   "name": "python",
   "nbconvert_exporter": "python",
   "pygments_lexer": "ipython3",
   "version": "3.6.4"
  }
 },
 "nbformat": 4,
 "nbformat_minor": 2
}
