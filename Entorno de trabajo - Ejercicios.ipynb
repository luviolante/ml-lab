{
 "cells": [
  {
   "cell_type": "code",
   "execution_count": 9,
   "metadata": {
    "scrolled": true
   },
   "outputs": [
    {
     "name": "stdout",
     "output_type": "stream",
     "text": [
      "Ingrese su nombre: lu\n",
      "Ingrese su edad: 30\n",
      "2018\n",
      "lu: en el 2088 vas a cumplir 100 años!\n"
     ]
    }
   ],
   "source": [
    "## Ejercicio 1\n",
    "import datetime\n",
    "name = input(\"Ingrese su nombre: \")\n",
    "age = int(input(\"Ingrese su edad: \"))\n",
    "currentYear = datetime.datetime.now().year\n",
    "result = currentYear + 100 - age\n",
    "print(name + \": en el \" + str(result) + \" vas a cumplir 100 años!!\")"
   ]
  },
  {
   "cell_type": "code",
   "execution_count": 14,
   "metadata": {},
   "outputs": [
    {
     "name": "stdout",
     "output_type": "stream",
     "text": [
      "Ingrese un número: 4\n",
      "El número ingresado es par\n"
     ]
    }
   ],
   "source": [
    "## Ejercicio 2\n",
    "number = int(input(\"Ingrese un número: \"))\n",
    "if number % 2 == 0: \n",
    "    result = \"par\" \n",
    "else: \n",
    "    result = \"impar\"\n",
    "print(\"El número ingresado es \" + result)"
   ]
  },
  {
   "cell_type": "code",
   "execution_count": 16,
   "metadata": {},
   "outputs": [
    {
     "name": "stdout",
     "output_type": "stream",
     "text": [
      "[1, 1, 2, 3]\n"
     ]
    }
   ],
   "source": [
    "## Ejercicio 3\n",
    "a = [1, 1, 2, 3, 5, 8, 13, 21, 34, 55, 89]\n",
    "result = []\n",
    "for element in a:\n",
    "    if (element < 5):\n",
    "        result.append(element)\n",
    "print(result)"
   ]
  },
  {
   "cell_type": "code",
   "execution_count": 27,
   "metadata": {},
   "outputs": [
    {
     "data": {
      "text/plain": [
       "<filter at 0x7f64c490dcc0>"
      ]
     },
     "execution_count": 27,
     "metadata": {},
     "output_type": "execute_result"
    }
   ],
   "source": [
    "## Ejercicio 3\n",
    "## No funciona -¿por qué?\n",
    "list = [1, 1, 2, 3, 5, 8, 13, 21, 34, 55, 89]\n",
    "result = filter(lambda x: x < 5, list)  \n",
    "result"
   ]
  },
  {
   "cell_type": "code",
   "execution_count": 30,
   "metadata": {},
   "outputs": [
    {
     "name": "stdout",
     "output_type": "stream",
     "text": [
      "Ingrese un número: 80\n",
      "[1, 2, 4, 5, 8, 10, 16, 20, 40]\n"
     ]
    }
   ],
   "source": [
    "## Ejercicio 4\n",
    "number = int(input(\"Ingrese un número: \"))\n",
    "candidates = range(1, number+1)\n",
    "divisors = []\n",
    "for candidate in candidates:\n",
    "    if number % candidate == 0:\n",
    "        divisors.append(candidate)\n",
    "print(divisors)"
   ]
  },
  {
   "cell_type": "code",
   "execution_count": 66,
   "metadata": {},
   "outputs": [
    {
     "name": "stdout",
     "output_type": "stream",
     "text": [
      "[1, 8, 2, 3, 69]\n"
     ]
    }
   ],
   "source": [
    "## Ejercicio 5\n",
    "list1 = [1,6,8,5,4,2,3,15,8,69]\n",
    "list2 = [1,8,3,66,2,1,8,4532,45,1,69]\n",
    "\n",
    "commonElements = []\n",
    "\n",
    "if len(list1) <= len(list2):\n",
    "    for x in list1:\n",
    "        if x in list2 and x not in commonElements:\n",
    "            commonElements.append(x)\n",
    "else:\n",
    "    for y in list2:\n",
    "        if y in list1 and y not in commonElements:\n",
    "            commonElements.append(y)\n",
    "            \n",
    "print(commonElements)"
   ]
  },
  {
   "cell_type": "code",
   "execution_count": 1,
   "metadata": {},
   "outputs": [
    {
     "name": "stdout",
     "output_type": "stream",
     "text": [
      "Ingrese una frase y le diré es un palíndromo o no: yo soy\n",
      "La frase ingresada es un palíndromo!\n"
     ]
    }
   ],
   "source": [
    "## Ejercicio 6\n",
    "text = input(\"Ingrese una frase y le diré es un palíndromo o no: \")\n",
    "text2 = text.replace(' ','')\n",
    "lenth = len(text2)\n",
    "i = 0\n",
    "msg = \"La frase ingresada es un palíndromo!\"\n",
    "while i < lenth/2:\n",
    "    if text2[i].upper() != text2[lenth-1-i].upper():\n",
    "        msg = \"La frase ingresada no es un palíndromo\"\n",
    "        break\n",
    "    i = i+1\n",
    "print(msg)\n",
    "\n"
   ]
  },
  {
   "cell_type": "code",
   "execution_count": 58,
   "metadata": {},
   "outputs": [
    {
     "name": "stdout",
     "output_type": "stream",
     "text": [
      "Ingrese una frase y le diré es un palíndromo o no: yo soy\n",
      "yosoy\n",
      "La frase ingresada es un palíndromo!\n"
     ]
    }
   ],
   "source": [
    "## Ejercicio 6\n",
    "text = input(\"Ingrese una frase y le diré es un palíndromo o no: \")\n",
    "text2 = text.replace(' ','')\n",
    "reverseText = text2[::-1]\n",
    "if text2 == reverseText:\n",
    "    print(\"La frase ingresada es un palíndromo!\")\n",
    "else:\n",
    "    print(\"La frase ingresada no es un palíndromo\")"
   ]
  },
  {
   "cell_type": "code",
   "execution_count": 60,
   "metadata": {},
   "outputs": [
    {
     "name": "stdout",
     "output_type": "stream",
     "text": [
      "[2, 4, 6, 8, 10, 12, 14]\n"
     ]
    }
   ],
   "source": [
    "## Ejercicio 7\n",
    "list = [1,2,3,4,5,6,7,8,9,10,11,12,13,14]\n",
    "result = [x for x in list if x % 2 == 0]\n",
    "print(result)"
   ]
  },
  {
   "cell_type": "code",
   "execution_count": 84,
   "metadata": {},
   "outputs": [
    {
     "name": "stdout",
     "output_type": "stream",
     "text": [
      "[1, 1, 1, 8, 8, 2, 3, 8, 8, 69]\n"
     ]
    }
   ],
   "source": [
    "## Ejercicio 10\n",
    "list1 = [1,6,8,5,4,2,3,15,8,69]\n",
    "list2 = [1,8,3,66,2,1,8,4532,45,1,69]\n",
    "\n",
    "result = [x for x in set(list1) for y in set(list2) if x == y]\n",
    "\n",
    "print(result)"
   ]
  },
  {
   "cell_type": "code",
   "execution_count": 14,
   "metadata": {},
   "outputs": [
    {
     "name": "stdout",
     "output_type": "stream",
     "text": [
      "None\n"
     ]
    },
    {
     "name": "stderr",
     "output_type": "stream",
     "text": [
      "/home/luisina/anaconda3/lib/python3.6/site-packages/bs4/__init__.py:181: UserWarning: No parser was explicitly specified, so I'm using the best available HTML parser for this system (\"lxml\"). This usually isn't a problem, but if you run this code on another system, or in a different virtual environment, it may use a different parser and behave differently.\n",
      "\n",
      "The code that caused this warning is on line 193 of the file /home/luisina/anaconda3/lib/python3.6/runpy.py. To get rid of this warning, change code that looks like this:\n",
      "\n",
      " BeautifulSoup(YOUR_MARKUP})\n",
      "\n",
      "to this:\n",
      "\n",
      " BeautifulSoup(YOUR_MARKUP, \"lxml\")\n",
      "\n",
      "  markup_type=markup_type))\n"
     ]
    }
   ],
   "source": [
    "## Ejercicio 17\n",
    "##Sin terminar\n",
    "\n",
    "import requests\n",
    "from bs4 import BeautifulSoup\n",
    "\n",
    "url = 'https://www.nytimes.com/'\n",
    "r = requests.get(url)\n",
    "r_html = r.text\n",
    "soup = BeautifulSoup(r_html)\n",
    "titles = soup.find('h2').string\n",
    "print(titles)"
   ]
  },
  {
   "cell_type": "code",
   "execution_count": null,
   "metadata": {},
   "outputs": [],
   "source": []
  }
 ],
 "metadata": {
  "kernelspec": {
   "display_name": "Python 3",
   "language": "python",
   "name": "python3"
  },
  "language_info": {
   "codemirror_mode": {
    "name": "ipython",
    "version": 3
   },
   "file_extension": ".py",
   "mimetype": "text/x-python",
   "name": "python",
   "nbconvert_exporter": "python",
   "pygments_lexer": "ipython3",
   "version": "3.6.4"
  }
 },
 "nbformat": 4,
 "nbformat_minor": 2
}
